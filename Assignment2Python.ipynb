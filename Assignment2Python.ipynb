{
 "cells": [
  {
   "cell_type": "markdown",
   "id": "02f4ddba",
   "metadata": {},
   "source": [
    "Que.1"
   ]
  },
  {
   "cell_type": "raw",
   "id": "106195cd",
   "metadata": {},
   "source": [
    "There are two types of boolean values: (1) True ,(2) False.\n",
    "True represented by \"1\" or \"True\".\n",
    "False is represented by \"0\" or \"False\"."
   ]
  },
  {
   "cell_type": "markdown",
   "id": "5989a22a",
   "metadata": {},
   "source": [
    "Que.2"
   ]
  },
  {
   "cell_type": "raw",
   "id": "c881f84e",
   "metadata": {},
   "source": [
    "There are three types of operations for boolean values: (1) and, (2) or , (3) not"
   ]
  },
  {
   "cell_type": "markdown",
   "id": "6eedc17b",
   "metadata": {},
   "source": [
    "Que.3"
   ]
  },
  {
   "cell_type": "raw",
   "id": "719c962b",
   "metadata": {},
   "source": [
    "//Operator\"and\" truth table\n",
    "True and True = True\n",
    "True and False = False\n",
    "False and False=False\n",
    "False and False = False\n",
    "//Operator \"or\" truth table\n",
    "True or True = True\n",
    "True or False = True\n",
    "False or True = True\n",
    "False or False = False\n",
    "//Operator \"not\" truth table\n",
    "not True = False\n",
    "not False = True"
   ]
  },
  {
   "cell_type": "markdown",
   "id": "2cc4b530",
   "metadata": {},
   "source": [
    "Que.4"
   ]
  },
  {
   "cell_type": "raw",
   "id": "bf8dbbb1",
   "metadata": {},
   "source": [
    "(1) (5 > 4) and (3 == 5)         # Here first statement is True but second statement is False, Therefore\n",
    "     Result : False\n",
    "(2) not (5 > 4)                  # Here (5>4) is True and negation of True is False, Therefore\n",
    "     Result : False\n",
    "(3) (5 > 4) or (3 == 5)          # Here first statement is True but second statement is False, Therefore\n",
    "     Result : True\n",
    "(4)not ((5 > 4) or (3 == 5))     # (5 > 4) or (3 == 5) gets True, but negation of True is False, Therefore\n",
    "    Result : False\n",
    "(5) (True and True) and (True == False)      # First statement get True and second get False, Therefore.\n",
    "    Result : False\n",
    "(6)(not False) or (not True)     # (not False) get True , (not True) get False, Therefore, True or False is True\n",
    "    Result : True"
   ]
  },
  {
   "cell_type": "markdown",
   "id": "d0d9deaa",
   "metadata": {},
   "source": [
    "Que.5"
   ]
  },
  {
   "cell_type": "raw",
   "id": "f93a8934",
   "metadata": {},
   "source": [
    "There are six comparison operators:\n",
    "    (1) > ( greater than)\n",
    "    (2) < (less than)\n",
    "    (3) == (equal to)\n",
    "    (4) != ( not equal to)\n",
    "    (5) >=  ( geater than or equal to)\n",
    "    (6) <=  (less than or equal to)"
   ]
  },
  {
   "cell_type": "markdown",
   "id": "faedb38f",
   "metadata": {},
   "source": [
    "Que.6"
   ]
  },
  {
   "cell_type": "raw",
   "id": "47fbeae8",
   "metadata": {},
   "source": [
    "Equal to (==) operator is used to return Is it True or False. \n",
    "And (=) is used to assign particular value to some variable. It means it store particular value as variable.\n",
    "Ex. a==10 , it get value \" True or False\".\n",
    "but a = 10 , it store 10 value as \"a\"."
   ]
  },
  {
   "cell_type": "markdown",
   "id": "293629a4",
   "metadata": {},
   "source": [
    "Que.7"
   ]
  },
  {
   "cell_type": "raw",
   "id": "ed7e115e",
   "metadata": {},
   "source": [
    "spam = 0\n",
    "if spam == 10:\n",
    "    print('eggs')\n",
    "if spam > 5:                         # This line need to use \"elif\".\n",
    "    print('bacon')                    # not maintaining indentation space before print statement\n",
    "else:\n",
    "    print('ham')\n",
    "    print('spam')                   \n",
    "    print('spam')\n"
   ]
  },
  {
   "cell_type": "markdown",
   "id": "bef5f2ab",
   "metadata": {},
   "source": [
    "Que.8"
   ]
  },
  {
   "cell_type": "code",
   "execution_count": 10,
   "id": "e430f07f",
   "metadata": {},
   "outputs": [
    {
     "name": "stdout",
     "output_type": "stream",
     "text": [
      "Greeting\n"
     ]
    }
   ],
   "source": [
    "spam=0\n",
    "if spam==1:\n",
    "    print(\"Hello\")\n",
    "elif spam==2:\n",
    "    print(\"Howdy\")\n",
    "else:\n",
    "    print(\"Greeting\")"
   ]
  },
  {
   "cell_type": "markdown",
   "id": "91686ca9",
   "metadata": {},
   "source": [
    "Que.9"
   ]
  },
  {
   "cell_type": "raw",
   "id": "1f5387c8",
   "metadata": {},
   "source": [
    "If programme is stuck in an endless loop, we will press \"interrupt the kernel\" or \"Ctrl+C\"."
   ]
  },
  {
   "cell_type": "markdown",
   "id": "36b60663",
   "metadata": {},
   "source": [
    "Que.10"
   ]
  },
  {
   "cell_type": "raw",
   "id": "a9a654cf",
   "metadata": {},
   "source": [
    "The Break statement is used to exit from the loop constructs.\n",
    "while The continue statement is not used to exit from the loop constructs.\n"
   ]
  },
  {
   "cell_type": "markdown",
   "id": "28079f52",
   "metadata": {},
   "source": [
    "Que.11"
   ]
  },
  {
   "cell_type": "raw",
   "id": "9ddea29c",
   "metadata": {},
   "source": [
    "range(10) means number generated from default 0 to 10.\n",
    "range(0,10) means number generated from 0 to 10.\n",
    "range(0,10,1) means numbers generated from 0 to 10 with step 1.\n",
    "We observe that, above three command generate same numbers. Therefore, There is no difference between range(10),range(0,10) and range(0,10,1)."
   ]
  },
  {
   "cell_type": "markdown",
   "id": "762ef439",
   "metadata": {},
   "source": [
    "Que.12"
   ]
  },
  {
   "cell_type": "code",
   "execution_count": 15,
   "id": "720373da",
   "metadata": {},
   "outputs": [
    {
     "name": "stdout",
     "output_type": "stream",
     "text": [
      "1\n",
      "2\n",
      "3\n",
      "4\n",
      "5\n",
      "6\n",
      "7\n",
      "8\n",
      "9\n",
      "10\n"
     ]
    }
   ],
   "source": [
    "for i in range(1,11):\n",
    "    print(i)"
   ]
  },
  {
   "cell_type": "code",
   "execution_count": 18,
   "id": "7b001ae1",
   "metadata": {},
   "outputs": [
    {
     "name": "stdout",
     "output_type": "stream",
     "text": [
      "1\n",
      "2\n",
      "3\n",
      "4\n",
      "5\n",
      "6\n",
      "7\n",
      "8\n",
      "9\n",
      "10\n"
     ]
    }
   ],
   "source": [
    "a=0\n",
    "while a <10:\n",
    "    a=a+1\n",
    "    print(a)\n",
    "    "
   ]
  },
  {
   "cell_type": "markdown",
   "id": "d4e58bfd",
   "metadata": {},
   "source": [
    "Que.13"
   ]
  },
  {
   "cell_type": "raw",
   "id": "61c1a426",
   "metadata": {},
   "source": [
    "We will call this function by spam.bacon()."
   ]
  }
 ],
 "metadata": {
  "kernelspec": {
   "display_name": "Python 3 (ipykernel)",
   "language": "python",
   "name": "python3"
  },
  "language_info": {
   "codemirror_mode": {
    "name": "ipython",
    "version": 3
   },
   "file_extension": ".py",
   "mimetype": "text/x-python",
   "name": "python",
   "nbconvert_exporter": "python",
   "pygments_lexer": "ipython3",
   "version": "3.9.7"
  }
 },
 "nbformat": 4,
 "nbformat_minor": 5
}
